{
 "cells": [
  {
   "cell_type": "markdown",
   "id": "da094f44",
   "metadata": {},
   "source": [
    "# 1.Addition"
   ]
  },
  {
   "cell_type": "code",
   "execution_count": 1,
   "id": "c3859054",
   "metadata": {},
   "outputs": [
    {
     "name": "stdout",
     "output_type": "stream",
     "text": [
      "Enter value a : 2\n",
      "Enter value b : 6\n",
      "Addition =  8.0\n"
     ]
    }
   ],
   "source": [
    "a=float(input(\"Enter value a : \"))\n",
    "b=float(input(\"Enter value b : \"))\n",
    "print(\"Addition = \",a+b)"
   ]
  },
  {
   "cell_type": "markdown",
   "id": "298def97",
   "metadata": {},
   "source": [
    "# 2.Substration"
   ]
  },
  {
   "cell_type": "code",
   "execution_count": 2,
   "id": "33fbbbc3",
   "metadata": {},
   "outputs": [
    {
     "name": "stdout",
     "output_type": "stream",
     "text": [
      "Enter value a : 9\n",
      "Enter value b : 1\n",
      "Substration =  8.0\n"
     ]
    }
   ],
   "source": [
    "a=float(input(\"Enter value a : \"))\n",
    "b=float(input(\"Enter value b : \"))\n",
    "print(\"Substration = \",a-b)"
   ]
  },
  {
   "cell_type": "markdown",
   "id": "63fb650b",
   "metadata": {},
   "source": [
    "# 3.Multiplication"
   ]
  },
  {
   "cell_type": "code",
   "execution_count": 3,
   "id": "5df13bf5",
   "metadata": {},
   "outputs": [
    {
     "name": "stdout",
     "output_type": "stream",
     "text": [
      "Enter value a : 8\n",
      "Enter value b : 6\n",
      "Multiplication =  48.0\n"
     ]
    }
   ],
   "source": [
    "a=float(input(\"Enter value a : \"))\n",
    "b=float(input(\"Enter value b : \"))\n",
    "print(\"Multiplication = \",a*b)"
   ]
  },
  {
   "cell_type": "markdown",
   "id": "7363bc99",
   "metadata": {},
   "source": [
    "# 4.Division"
   ]
  },
  {
   "cell_type": "code",
   "execution_count": 4,
   "id": "f5215e03",
   "metadata": {},
   "outputs": [
    {
     "name": "stdout",
     "output_type": "stream",
     "text": [
      "Enter value a : 8\n",
      "Enter value b : 2\n",
      "Division =  4.0\n"
     ]
    }
   ],
   "source": [
    "a=float(input(\"Enter value a : \"))\n",
    "b=float(input(\"Enter value b : \"))\n",
    "print(\"Division = \",a/b)"
   ]
  },
  {
   "cell_type": "markdown",
   "id": "f5ce5f9c",
   "metadata": {},
   "source": [
    "# 5.Power"
   ]
  },
  {
   "cell_type": "code",
   "execution_count": 6,
   "id": "56e5d600",
   "metadata": {},
   "outputs": [
    {
     "name": "stdout",
     "output_type": "stream",
     "text": [
      "Enter value a : 8\n",
      "Enter value b : 2\n",
      "Power =  64.0\n",
      "64.0\n"
     ]
    }
   ],
   "source": [
    "a=float(input(\"Enter value a : \"))\n",
    "b=float(input(\"Enter value b : \"))\n",
    "print(\"Power = \",a**b)\n",
    "#print(pow(a,b))"
   ]
  },
  {
   "cell_type": "markdown",
   "id": "cb2e0852",
   "metadata": {},
   "source": [
    "# 6.Combination"
   ]
  },
  {
   "cell_type": "code",
   "execution_count": 8,
   "id": "6318ca4a",
   "metadata": {},
   "outputs": [
    {
     "data": {
      "text/plain": [
       "12.0"
      ]
     },
     "execution_count": 8,
     "metadata": {},
     "output_type": "execute_result"
    }
   ],
   "source": [
    "5+9*7/3**2"
   ]
  },
  {
   "cell_type": "code",
   "execution_count": 9,
   "id": "72cdeb88",
   "metadata": {},
   "outputs": [],
   "source": [
    "import numpy as np"
   ]
  },
  {
   "cell_type": "code",
   "execution_count": 10,
   "id": "e48c4ab5",
   "metadata": {},
   "outputs": [],
   "source": [
    "import matplotlib"
   ]
  },
  {
   "cell_type": "code",
   "execution_count": 11,
   "id": "a5bb50e3",
   "metadata": {},
   "outputs": [],
   "source": [
    "import seaborn"
   ]
  },
  {
   "cell_type": "code",
   "execution_count": null,
   "id": "cb95fa53",
   "metadata": {},
   "outputs": [],
   "source": []
  }
 ],
 "metadata": {
  "kernelspec": {
   "display_name": "Python 3",
   "language": "python",
   "name": "python3"
  },
  "language_info": {
   "codemirror_mode": {
    "name": "ipython",
    "version": 3
   },
   "file_extension": ".py",
   "mimetype": "text/x-python",
   "name": "python",
   "nbconvert_exporter": "python",
   "pygments_lexer": "ipython3",
   "version": "3.8.8"
  }
 },
 "nbformat": 4,
 "nbformat_minor": 5
}
